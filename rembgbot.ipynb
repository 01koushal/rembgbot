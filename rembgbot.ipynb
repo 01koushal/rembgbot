{
  "nbformat": 4,
  "nbformat_minor": 0,
  "metadata": {
    "colab": {
      "provenance": [],
      "authorship_tag": "ABX9TyOGK4d/lefXbwgI/8RZ9xs6",
      "include_colab_link": true
    },
    "kernelspec": {
      "name": "python3",
      "display_name": "Python 3"
    },
    "language_info": {
      "name": "python"
    }
  },
  "cells": [
    {
      "cell_type": "markdown",
      "metadata": {
        "id": "view-in-github",
        "colab_type": "text"
      },
      "source": [
        "<a href=\"https://colab.research.google.com/github/01koushal/rembgbot/blob/main/rembgbot.ipynb\" target=\"_parent\"><img src=\"https://colab.research.google.com/assets/colab-badge.svg\" alt=\"Open In Colab\"/></a>"
      ]
    },
    {
      "cell_type": "code",
      "execution_count": null,
      "metadata": {
        "id": "xWzlDRUyirz5"
      },
      "outputs": [],
      "source": [
        "import telebot\n",
        "from PIL import Image\n",
        "import numpy as np\n",
        "import cv2\n",
        "from rembg import remove\n",
        "\n",
        "# Replace 'YOUR_BOT_TOKEN' with your bot token\n",
        "bot = telebot.TeleBot('7238717600:AAF2ReLPIxItfqltUsTJddCnqiJ10mH14kA')\n",
        "\n",
        "@bot.message_handler(content_types=['photo'])\n",
        "def handle_photo(message):\n",
        "    file_info = bot.get_file(message.photo[-1].file_id)\n",
        "    downloaded_file = bot.download_file(file_info.file_path)\n",
        "\n",
        "    with open(\"image.jpg\", 'wb') as new_file:\n",
        "        new_file.write(downloaded_file)\n",
        "\n",
        "    img = Image.open('image.jpg')\n",
        "    output = remove(img)\n",
        "\n",
        "    output.save('output.png')\n",
        "\n",
        "    bot.send_photo(message.chat.id, open('output.png', 'rb'))\n",
        "\n",
        "bot.polling()"
      ]
    }
  ]
}